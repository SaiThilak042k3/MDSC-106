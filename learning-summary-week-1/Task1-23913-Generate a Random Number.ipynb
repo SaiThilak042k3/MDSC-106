{
 "cells": [
  {
   "cell_type": "markdown",
   "metadata": {},
   "source": [
    "**Question**\n",
    "\n",
    "Various custom created algorithms / techniques to generate a random number ( say use case is aadhaar number allocation for Indian citizens by birth, foreigners marrying a Indian man and further getting aadhaar number so on.. try to maintain a sequence to identify and distinguish the above 2 classes by looking at the aadhaar number start sequence )\n"
   ]
  },
  {
   "cell_type": "markdown",
   "metadata": {},
   "source": [
    "## A combination of date and a sequential number"
   ]
  },
  {
   "cell_type": "code",
   "execution_count": 1,
   "metadata": {},
   "outputs": [
    {
     "name": "stdout",
     "output_type": "stream",
     "text": [
      "20230825-0001\n",
      "20230825-0002\n",
      "20230825-0003\n",
      "20230825-0004\n",
      "20230825-0005\n",
      "20230825-0006\n",
      "20230825-0007\n",
      "20230825-0008\n",
      "20230825-0009\n",
      "20230825-0010\n"
     ]
    }
   ],
   "source": [
    "import datetime\n",
    "\n",
    "class CustomIDGenerator:\n",
    "    def __init__(self):\n",
    "        self.date_today = datetime.date.today()\n",
    "        self.counter = 0\n",
    "\n",
    "    def generate_id(self):\n",
    "        # Format date as YYYYMMDD\n",
    "        formatted_date = self.date_today.strftime(\"%Y%m%d\")\n",
    "\n",
    "        # Increment the counter\n",
    "        self.counter += 1\n",
    "\n",
    "        # Format counter as a four-digit number with leading zeros\n",
    "        formatted_counter = str(self.counter).zfill(4)\n",
    "\n",
    "        # Combine date and counter to create the unique ID\n",
    "        custom_id = f\"{formatted_date}-{formatted_counter}\"\n",
    "\n",
    "        return custom_id\n",
    "\n",
    "\n",
    "if __name__ == \"__main__\":\n",
    "    generator = CustomIDGenerator()\n",
    "    for _ in range(10):\n",
    "        unique_id = generator.generate_id()\n",
    "        print(unique_id)\n"
   ]
  },
  {
   "cell_type": "markdown",
   "metadata": {},
   "source": [
    "## Unique IDs for students based on their department in a college"
   ]
  },
  {
   "cell_type": "code",
   "execution_count": 2,
   "metadata": {},
   "outputs": [
    {
     "name": "stdout",
     "output_type": "stream",
     "text": [
      "CS-20230825-0001\n",
      "CS-20230825-0002\n",
      "CS-20230825-0003\n",
      "CS-20230825-0004\n",
      "CS-20230825-0005\n",
      "CS-20230825-0006\n",
      "CS-20230825-0007\n",
      "CS-20230825-0008\n",
      "CS-20230825-0009\n",
      "CS-20230825-0010\n"
     ]
    }
   ],
   "source": [
    "import datetime\n",
    "\n",
    "class StudentIDGenerator:\n",
    "    def __init__(self, department_code):\n",
    "        self.department_code = department_code\n",
    "        self.date_today = datetime.date.today()\n",
    "        self.counter = 0\n",
    "\n",
    "    def generate_id(self):\n",
    "        # Format date as YYYYMMDD\n",
    "        formatted_date = self.date_today.strftime(\"%Y%m%d\")\n",
    "\n",
    "        # Increment the counter\n",
    "        self.counter += 1\n",
    "\n",
    "        # Format counter as a four-digit number with leading zeros\n",
    "        formatted_counter = str(self.counter).zfill(4)\n",
    "\n",
    "        # Combine department code, date, and counter to create the unique ID\n",
    "        student_id = f\"{self.department_code}-{formatted_date}-{formatted_counter}\"\n",
    "\n",
    "        return student_id\n",
    "\n",
    "\n",
    "if __name__ == \"__main__\":\n",
    "    department_code = \"CS\"  # Replace with the department code as needed\n",
    "    generator = StudentIDGenerator(department_code)\n",
    "    for _ in range(10):\n",
    "        unique_id = generator.generate_id()\n",
    "        print(unique_id)\n"
   ]
  }
 ],
 "metadata": {
  "kernelspec": {
   "display_name": "Python 3",
   "language": "python",
   "name": "python3"
  },
  "language_info": {
   "codemirror_mode": {
    "name": "ipython",
    "version": 3
   },
   "file_extension": ".py",
   "mimetype": "text/x-python",
   "name": "python",
   "nbconvert_exporter": "python",
   "pygments_lexer": "ipython3",
   "version": "3.11.1"
  },
  "orig_nbformat": 4
 },
 "nbformat": 4,
 "nbformat_minor": 2
}
